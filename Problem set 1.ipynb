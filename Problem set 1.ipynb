{
 "cells": [
  {
   "cell_type": "code",
   "execution_count": null,
   "id": "fae5a17e",
   "metadata": {},
   "outputs": [],
   "source": [
    "BDAT1004 || Data Programing\n",
    "Problem Set 1 || Iman Shokri"
   ]
  },
  {
   "cell_type": "code",
   "execution_count": null,
   "id": "585d3711",
   "metadata": {},
   "outputs": [],
   "source": [
    "# Question 1 : Data Types\n",
    "\n",
    "Var A = 5\n",
    "# Data Type = Integer\n",
    "\n",
    "Var B = 5.0\n",
    "# Data Type = Double\n",
    "\n",
    "Var C = 5 > 1\n",
    "# Data Type = Boolean\n",
    "\n",
    "Var D = \"5\"\n",
    "# Data Type = String\n",
    "\n",
    "Var E = 5*2\n",
    "# Data Type = Integer\n",
    "\n",
    "Var F = \"5\" * 2\n",
    "# Data Type = String\n",
    "\n",
    "Var G = \"5\" + '2'\n",
    "# Data Type = String\n",
    "\n",
    "Var H = 5/2\n",
    "# Data Type = Double\n",
    "\n",
    "Var I = 5%2\n",
    "# Data Type = Double\n",
    "\n",
    "Var J = {5, 2, 1}\n",
    "# Data Type = List\n",
    "\n",
    "Var K = 5 == 3\n",
    "# Data Type = Boolean\n",
    "\n",
    "Var L = Pi (the number)\n",
    "# Data Type = Double\n"
   ]
  },
  {
   "cell_type": "code",
   "execution_count": null,
   "id": "5579e848",
   "metadata": {},
   "outputs": [],
   "source": [
    "# Question 2 || Part A : How Many Letters\n",
    "\n",
    "using System;\n",
    "\n",
    "public class HowManyCharacter{\n",
    "    \n",
    "public static void Main(){\n",
    "    \n",
    " string str= \"Supercalifragilisticexpialidocious\";\n",
    "Console.WriteLine (\"Number of Letters in ||Supercalifragilisticexpialidocious|| : \"+str.Length);\n",
    "\t}\n",
    "}"
   ]
  },
  {
   "cell_type": "code",
   "execution_count": null,
   "id": "cec3545f",
   "metadata": {},
   "outputs": [],
   "source": [
    "# Answer 2 || Part A \n",
    "\n",
    "mono /tmp/qn7TDXL8Cs.exe\n",
    "Number of Letters in ||Supercalifragilisticexpialidocious|| : 34"
   ]
  },
  {
   "cell_type": "code",
   "execution_count": null,
   "id": "93e8ef02",
   "metadata": {},
   "outputs": [],
   "source": [
    "# Question 2 || Part B : Check Substring\n",
    "\n",
    "using System;\n",
    "\n",
    "class SubstringchecK{\n",
    "    \n",
    "    public static void Main(){\n",
    "  \n",
    "        String str = \"Supercalifragilisticexpialidocious\";\n",
    "        String substr = \"ice\";\n",
    "    \n",
    "        Console.WriteLine(str.Contains(substr));\n",
    "    }\n",
    "}"
   ]
  },
  {
   "cell_type": "code",
   "execution_count": null,
   "id": "a874b936",
   "metadata": {},
   "outputs": [],
   "source": [
    "# Answer 2 || Part B\n",
    "\n",
    "mono /tmp/qn7TDXL8Cs.exe\n",
    "True"
   ]
  },
  {
   "cell_type": "code",
   "execution_count": null,
   "id": "6c333ec0",
   "metadata": {},
   "outputs": [],
   "source": [
    "# Question 2 || Part C : Longest word\n",
    "\n",
    "using System;  \n",
    "public class LongestWord\n",
    "{  \n",
    "    public static void Main() \n",
    "      {          \n",
    "                    string line = \"Supercalifragilisticexpialidocious, Honorificabilitudinitatibus, or Bababadalgharaghtakamminarronnkonn\";\n",
    "                    string[] words = line.Split(new[] { \" \" }, StringSplitOptions.None);\n",
    "                        string word = \"\";\n",
    "                        int ctr = 0;\n",
    "                        foreach (String s in words)\n",
    "                        {\n",
    "                            if (s.Length > ctr)\n",
    "                            {\n",
    "                                word = s;\n",
    "                                ctr = s.Length;\n",
    "                            }\n",
    "                        }\n",
    "                   \n",
    "                        Console.WriteLine(word);\n",
    "                    \n",
    "    }\n",
    "}\n"
   ]
  },
  {
   "cell_type": "code",
   "execution_count": null,
   "id": "73fef3e6",
   "metadata": {},
   "outputs": [],
   "source": [
    "# Answer 2 || Part C\n",
    "\n",
    "mono /tmp/qn7TDXL8Cs.exe\n",
    "Supercalifragilisticexpialidocious"
   ]
  },
  {
   "cell_type": "code",
   "execution_count": null,
   "id": "a9bf301c",
   "metadata": {},
   "outputs": [],
   "source": [
    "# Question 2 || Part D : Dictionary \n",
    "\n",
    "using System;\n",
    "using System.Collections.Generic;\n",
    " \n",
    "public class SortedSet\n",
    "{\n",
    "     public static void Main(string[] args)\n",
    "     {\n",
    "          var names = new SortedSet<string>();\n",
    "          names.Add(\"Berlioz\");\n",
    "          names.Add(\"Borodin\");\n",
    "          names.Add(\"Brian\");\n",
    "          names.Add(\"Bartok\");\n",
    "          names.Add(\"Bellini\");\n",
    "\t\t  names.Add(\"Buxtehude\");\n",
    "\t\t  names.Add(\"Buxtehude\");\n",
    "\t\t  names.Add(\"Bernstein\");\n",
    "          foreach (var name in names)\n",
    "          {\n",
    "              Console.WriteLine(name);\n",
    "          }\n",
    "      }\n",
    "}"
   ]
  },
  {
   "cell_type": "code",
   "execution_count": null,
   "id": "5c203d64",
   "metadata": {},
   "outputs": [],
   "source": [
    "# Answer 2 || Part D\n",
    "\n",
    "mono /tmp/qn7TDXL8Cs.exe\n",
    "Bartok\n",
    "Bellini\n",
    "Berlioz\n",
    "Bernstein\n",
    "Borodin\n",
    "Brian\n",
    "Buxtehude"
   ]
  },
  {
   "cell_type": "code",
   "execution_count": null,
   "id": "efeb6b39",
   "metadata": {},
   "outputs": [],
   "source": [
    "# Question 3 : Triangle Area\n",
    "\n",
    "using System;\n",
    "class TriangleArea\n",
    "{\n",
    "static double triangleArea(double a,double b,double c)\n",
    "{\n",
    "double s = (a + b + c) / 2;\n",
    "\n",
    "double area = Math.Sqrt(s * (s - a) * (s - b) * (s - c));\n",
    "\n",
    "return area;\n",
    "}\n",
    "\n",
    "public static void Main()\n",
    "{\n",
    "double area = triangleArea(2, 2, 2);\n",
    "Console.Write(area);\n",
    "}\n",
    "}"
   ]
  },
  {
   "cell_type": "code",
   "execution_count": null,
   "id": "b2b508c9",
   "metadata": {},
   "outputs": [],
   "source": [
    "# Answer 3\n",
    "\n",
    "mono /tmp/qn7TDXL8Cs.exe\n",
    "1.73205080756888"
   ]
  },
  {
   "cell_type": "code",
   "execution_count": null,
   "id": "ed6461bd",
   "metadata": {},
   "outputs": [],
   "source": [
    "# Question 4 : Separate odd and even\n",
    "\n",
    "using System;  \n",
    "public class OddAndEvenInteger \n",
    "{  \n",
    "    public static void Main() \n",
    " {\n",
    "\tint[] arr1 = new int[10];\n",
    "\tint[] arr2 = new int[10];\n",
    "\tint[] arr3 = new int[10];\n",
    "    int i,j=0,k=0,n;\t\n",
    "       Console.Write(\"\\n\\nTest Data:\\n\");\n",
    "       Console.Write(\"========================================================\\n\");\t\n",
    "       Console.Write(\"Input the number of elements to be stored in the array :\");\n",
    "\t   n = Convert.ToInt32(Console.ReadLine()); \t   \n",
    "       Console.Write(\"Input {0} elements in the array :\\n\",n);\n",
    "       for(i=0;i<n;i++)\n",
    "            {\n",
    "\t      Console.Write(\"element - {0} : \",i);\n",
    "    \t  arr1[i] = Convert.ToInt32(Console.ReadLine()); \t\t  \n",
    "\t    }\n",
    "    for(i=0;i<n;i++)\n",
    "    {\n",
    "\tif (arr1[i]%2 == 0)\n",
    "\t{\n",
    "\t   arr2[j] = arr1[i];\n",
    "\t   j++;\n",
    "\t}\n",
    "\telse\n",
    "\t{\n",
    "\t   arr3[k] = arr1[i];\n",
    "\t   k++;\n",
    "\t}\n",
    "    }\n",
    "    Console.Write(\"\\nThe Even elements are : \\n\");\n",
    "    for(i=0;i<j;i++)\n",
    "    {\n",
    "\tConsole.Write(\"{0} \",arr2[i]);\n",
    "    }\n",
    "    Console.Write(\"\\nThe Odd elements are :\\n\");\n",
    "    for(i=0;i<k;i++)\n",
    "    {\n",
    "\tConsole.Write(\"{0} \", arr3[i]);\n",
    "    }\n",
    "    Console.Write(\"\\n\\n\");\t\n",
    "   }\t\n",
    " } "
   ]
  },
  {
   "cell_type": "code",
   "execution_count": null,
   "id": "b91b9902",
   "metadata": {},
   "outputs": [],
   "source": [
    "# Answer 4\n",
    "\n",
    "mono /tmp/qn7TDXL8Cs.exe\n",
    "Test Data:\n",
    "========================================================\n",
    "Input the number of elements to be stored in the array :5\n",
    "Input 5 elements in the array :\n",
    "element - 0 : 25\n",
    "element - 1 : 47\n",
    "element - 2 : 42\n",
    "element - 3 : 56\n",
    "element - 4 : 32\n",
    "The Even elements are : \n",
    "42 56 32 \n",
    "The Odd elements are :\n",
    "25 47 "
   ]
  },
  {
   "cell_type": "code",
   "execution_count": null,
   "id": "29cacf99",
   "metadata": {},
   "outputs": [],
   "source": [
    "# Question 5 : Inside Function \n",
    "\n",
    "using System;\n",
    "class GFG\n",
    "{\n",
    "static bool inside(int x, int y, int x1, int y1, int x2, int y2)\n",
    "{\n",
    "if (x > x1 && x < x2 && y > y1 && y < y2)\n",
    "return true;\n",
    "else\n",
    "return false;\n",
    "}\n",
    "public static void Main()\n",
    "{\n",
    "int x1 = 1, y1 = 1, x2 = 0, y2 = 0;\n",
    "int x = 2, y = 3;\n",
    "if (inside(x, y, x1, y1, x2, y2))\n",
    " Console.Write(\"True\");\n",
    "else\n",
    " Console.Write(\"False\");\n",
    "}\n",
    "}"
   ]
  },
  {
   "cell_type": "code",
   "execution_count": null,
   "id": "d4660733",
   "metadata": {},
   "outputs": [],
   "source": [
    "# Answer 5 (1,1,0,0,2,3)\n",
    "\n",
    "mono /tmp/qn7TDXL8Cs.exe\n",
    "True"
   ]
  },
  {
   "cell_type": "code",
   "execution_count": 48,
   "id": "4fbf6a42",
   "metadata": {},
   "outputs": [
    {
     "ename": "SyntaxError",
     "evalue": "invalid syntax (3749175297.py, line 3)",
     "output_type": "error",
     "traceback": [
      "\u001b[0;36m  Input \u001b[0;32mIn [48]\u001b[0;36m\u001b[0m\n\u001b[0;31m    using System;\u001b[0m\n\u001b[0m          ^\u001b[0m\n\u001b[0;31mSyntaxError\u001b[0m\u001b[0;31m:\u001b[0m invalid syntax\n"
     ]
    }
   ],
   "source": [
    "# Question 5 : Inside Function\n",
    "\n",
    "using System;\n",
    "class GFG\n",
    "{\n",
    "static bool inside(int x, int y, int x1, int y1, int x2, int y2)\n",
    "{\n",
    "if (x > x1 & x < x2 & y > y1 & y < y2)\n",
    "return true;\n",
    "else\n",
    "return false;\n",
    "}\n",
    "public static void Main()\n",
    "{\n",
    "int x1 = -1, y1 = -1, x2 = 0, y2 = 0;\n",
    "int x = 2, y = 3;\n",
    "if (inside(x, y, x1, y1, x2, y2))\n",
    " Console.Write(\"True\");\n",
    "else\n",
    " Console.Write(\"False\");\n",
    "}\n",
    "}"
   ]
  },
  {
   "cell_type": "code",
   "execution_count": null,
   "id": "f2a1dc0f",
   "metadata": {},
   "outputs": [],
   "source": [
    "# Answer 5 (-1,-1,0,0,2,3)\n",
    "\n",
    "mono /tmp/qn7TDXL8Cs.exe\n",
    "False"
   ]
  },
  {
   "cell_type": "code",
   "execution_count": 43,
   "id": "c1abe064",
   "metadata": {},
   "outputs": [],
   "source": [
    "# Question 6 : Pig Function\n",
    "\n",
    "vowels = ['a','e','i','o','u']\n",
    "def pig(word):\n",
    "    \n",
    "    if word[0].lower() in vowels:\n",
    "        print(word.lower() + 'way')\n",
    "    else:\n",
    "        first_letter = word[0]\n",
    "        print(word[1:].lower()+first_letter.lower()+'ay')\n"
   ]
  },
  {
   "cell_type": "code",
   "execution_count": 44,
   "id": "78929fd0",
   "metadata": {},
   "outputs": [
    {
     "name": "stdout",
     "output_type": "stream",
     "text": [
      "appyhay\n"
     ]
    }
   ],
   "source": [
    "# Answer 6 : happy\n",
    "pig('happy')"
   ]
  },
  {
   "cell_type": "code",
   "execution_count": 45,
   "id": "8259c860",
   "metadata": {},
   "outputs": [
    {
     "name": "stdout",
     "output_type": "stream",
     "text": [
      "enterway\n"
     ]
    }
   ],
   "source": [
    "# Answer 6 : Enter\n",
    "pig('Enter')"
   ]
  },
  {
   "cell_type": "code",
   "execution_count": 49,
   "id": "c3c4eea8",
   "metadata": {},
   "outputs": [],
   "source": [
    "# Question 7 : Blood Types\n",
    "\n",
    "def bldcount(filename):\n",
    "    \n",
    "    x = open(\"/Users/iman/Desktop/bloodtype1.txt\", \"r\")\n",
    "    words = x.readline()\n",
    "    lst = []\n",
    "    blood_types = ['A','B','AB','O','OO']\n",
    "    \n",
    "    lst.append(words.split(\" \"))\n",
    "    \n",
    "    for blood_type in blood_types:\n",
    "        print(\"There are {} patients of blood type {}.\".format(lst[0].count(blood_type),blood_type))"
   ]
  },
  {
   "cell_type": "code",
   "execution_count": 51,
   "id": "6e965084",
   "metadata": {},
   "outputs": [
    {
     "name": "stdout",
     "output_type": "stream",
     "text": [
      "There are 15 patients of blood type A.\n",
      "There are 1 patients of blood type B.\n",
      "There are 13 patients of blood type AB.\n",
      "There are 15 patients of blood type O.\n",
      "There are 0 patients of blood type OO.\n"
     ]
    }
   ],
   "source": [
    "bldcount('bloodtype1.txt')"
   ]
  },
  {
   "cell_type": "code",
   "execution_count": 38,
   "id": "504ff4cf",
   "metadata": {},
   "outputs": [
    {
     "name": "stdout",
     "output_type": "stream",
     "text": [
      "122.96544\n",
      "1.241401\n"
     ]
    }
   ],
   "source": [
    "#Question 8 : Currency Converter\n",
    "\n",
    "def curconv(Currency,Amount):\n",
    "    ans=0\n",
    "    Currency_list=['AUD','CHF','CNY','DKK','EUR','GBP','HKD','INR','JPY','MXN','MYR','NOK','NZD','PHP','SEK','SGD','THB']\n",
    "    Price_list=[1.0345157,1.0237414,0.1550176,0.1651442,1.2296544,1.5550989,0.1270207,0.0177643,0.01241401,0.0751848,0.3145411,0.1677063,0.8003591,0.0233234,0.148269,0.788871,0.0313789]\n",
    "    \n",
    "    for i in range(len(Currency_list)):\n",
    "        if(Currency_list[i]==Currency):\n",
    "            ans=Amount*Price_list[i]\n",
    "            break\n",
    "    return ans;\n",
    "print(curconv(\"EUR\",100))\n",
    "print(curconv(\"JPY\",100))"
   ]
  },
  {
   "cell_type": "code",
   "execution_count": null,
   "id": "63106898",
   "metadata": {},
   "outputs": [],
   "source": [
    "#Question 9 : Identify type of exeption\n",
    "\n",
    "\n",
    "# Trying to add incompatible variables, as in adding 6 + ‘a’\n",
    "\n",
    "TypeError: Data type of objects in an operation is inappropriate.\n",
    "        \n",
    "# Referring to the 12th item of a list that has only 10 items\n",
    "\n",
    "IndexError:list index out of range and invalid.\n",
    "\n",
    "# Using a value that is out of range for a function’s input, such as calling math.sqrt(-1.0)\n",
    "\n",
    "ValueError: Perform a mathematical function on a negative or zero number which cannot be computed.\n",
    "\n",
    "# Using an undeclared variable, such as print(x) when x has not been defined\n",
    "\n",
    "NameError: Name 'x' doesnt exist or wasnt used in a valid way.\n",
    "    \n",
    "# Trying to open a file that does not exist, such as mistyping the file name or looking in the wrong directory\n",
    "\n",
    "IOError: A result of incorrect file name or location. \n"
   ]
  },
  {
   "cell_type": "code",
   "execution_count": 36,
   "id": "bfb59555",
   "metadata": {},
   "outputs": [
    {
     "name": "stdout",
     "output_type": "stream",
     "text": [
      "[1, 1, 1, 3, 5, 1, 1, 2, 1, 0, 1, 0, 1, 2, 4, 0, 1, 2, 0, 2, 1, 0, 1, 1, 0, 0]\n",
      "[1, 0, 0, 0, 1, 0, 0, 0, 0, 0, 0, 1, 0, 0, 0, 2, 0, 0, 0, 0, 0, 0, 0, 0, 0, 0]\n"
     ]
    }
   ],
   "source": [
    "#Question 10 : Find the frequency of each character in a string  \n",
    "\n",
    "def frequencies(string):\n",
    "    letters = 'abcdefghijklmnopqrstuvwxyz'\n",
    "\n",
    "    dic_list = {'a':0, 'b':0, 'c':0, 'd':0, 'e':0, 'f':0, 'g':0, 'h':0,'i':0, 'j':0, 'k':0, 'l':0, 'm':0, 'n':0, 'o':0, 'p':0, 'q':0, \n",
    "               'r':0, 's':0, 't':0, 'u':0, 'v':0, 'w':0, 'x':0, 'y':0, 'z':0}\n",
    "    \n",
    "    for i in string:\n",
    "      \n",
    "        if(i in letters):\n",
    "            dic_list[i] += 1 \n",
    "        \n",
    "    my_list = []\n",
    "\n",
    "    for i in dic_list.values():\n",
    "        \n",
    "        my_list.append(i)\n",
    "    \n",
    "    return my_list\n",
    "       \n",
    "print(frequencies('The quick red fox got bored and went home.'))\n",
    "print(frequencies('apple'))"
   ]
  }
 ],
 "metadata": {
  "kernelspec": {
   "display_name": "Python 3 (ipykernel)",
   "language": "python",
   "name": "python3"
  },
  "language_info": {
   "codemirror_mode": {
    "name": "ipython",
    "version": 3
   },
   "file_extension": ".py",
   "mimetype": "text/x-python",
   "name": "python",
   "nbconvert_exporter": "python",
   "pygments_lexer": "ipython3",
   "version": "3.9.12"
  }
 },
 "nbformat": 4,
 "nbformat_minor": 5
}
